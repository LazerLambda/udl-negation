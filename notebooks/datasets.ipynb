{
 "cells": [
  {
   "cell_type": "code",
   "execution_count": 3,
   "metadata": {},
   "outputs": [],
   "source": [
    "import datasets\n",
    "import spacy\n",
    "import numpy as np\n",
    "from datasets import load_dataset"
   ]
  },
  {
   "cell_type": "code",
   "execution_count": 2,
   "metadata": {},
   "outputs": [],
   "source": [
    "nlp = spacy.load('en_core_web_sm') # Load the English Model"
   ]
  },
  {
   "cell_type": "code",
   "execution_count": 2,
   "metadata": {},
   "outputs": [
    {
     "name": "stderr",
     "output_type": "stream",
     "text": [
      "Found cached dataset wikipedia (/home/philko/.cache/huggingface/datasets/wikipedia/20220301.en/2.0.0/aa542ed919df55cc5d3347f42dd4521d05ca68751f50dbc32bae2a7f1e167559)\n"
     ]
    },
    {
     "data": {
      "application/vnd.jupyter.widget-view+json": {
       "model_id": "de3d04b6350e4f019b84517c7fa5339b",
       "version_major": 2,
       "version_minor": 0
      },
      "text/plain": [
       "  0%|          | 0/1 [00:00<?, ?it/s]"
      ]
     },
     "metadata": {},
     "output_type": "display_data"
    }
   ],
   "source": [
    "\n",
    "\n",
    "\n",
    "dataset_wikipedia = load_dataset(\"wikipedia\", \"20220301.en\", beam_runner=\"DirectRunner\")"
   ]
  },
  {
   "attachments": {},
   "cell_type": "markdown",
   "metadata": {},
   "source": [
    "# Exp"
   ]
  },
  {
   "cell_type": "code",
   "execution_count": 19,
   "metadata": {},
   "outputs": [
    {
     "data": {
      "text/plain": [
       "(322933, 6458670)"
      ]
     },
     "execution_count": 19,
     "metadata": {},
     "output_type": "execute_result"
    }
   ],
   "source": [
    "n = len(dataset_wikipedia['train'])\n",
    "sample = np.random.choice(range(n), int(0.05 * n))\n",
    "len(sample), n"
   ]
  },
  {
   "cell_type": "code",
   "execution_count": 187,
   "metadata": {},
   "outputs": [
    {
     "data": {
      "text/plain": [
       "range(0, 500)"
      ]
     },
     "execution_count": 187,
     "metadata": {},
     "output_type": "execute_result"
    }
   ],
   "source": [
    "a = (0, 500)\n",
    "range(*a)"
   ]
  },
  {
   "cell_type": "code",
   "execution_count": 182,
   "metadata": {},
   "outputs": [],
   "source": [
    "from typing import Callable, Tuple, Generator\n",
    "def get_ranges(n: int, p: int) -> Tuple[int, int]:\n",
    "    ranges: Generator = zip(range(p ), [int(n / p)] * p)\n",
    "    diff: int = int(n / p % 1 * 4)\n",
    "    upper_bound: Callable = lambda e: (e[0] + 1) * e[1]\n",
    "    return list(map(lambda e: (e[0] * e[1], upper_bound(e) if upper_bound(e) != n - diff else n), ranges))"
   ]
  },
  {
   "cell_type": "code",
   "execution_count": 183,
   "metadata": {},
   "outputs": [
    {
     "data": {
      "text/plain": [
       "[(0, 80733), (80733, 161466), (161466, 242199), (242199, 322933)]"
      ]
     },
     "execution_count": 183,
     "metadata": {},
     "output_type": "execute_result"
    }
   ],
   "source": [
    "get_ranges(322933, 4)"
   ]
  },
  {
   "cell_type": "code",
   "execution_count": 181,
   "metadata": {},
   "outputs": [
    {
     "data": {
      "text/plain": [
       "[(0, 80733), (80733, 161466), (161466, 242199), (242199, 322933)]"
      ]
     },
     "execution_count": 181,
     "metadata": {},
     "output_type": "execute_result"
    }
   ],
   "source": [
    "n = 322933\n",
    "p = 4\n",
    "n / p\n",
    "ranges = zip(range(p ), [int(n / p)] * p)\n",
    "diff = int(n / p % 1 * 4)\n",
    "ranges = list(map(lambda e: (e[0] * e[1], (e[0] + 1) * e[1] if (e[0] + 1) * e[1] != n - diff else n), ranges))\n",
    "ranges"
   ]
  },
  {
   "cell_type": "code",
   "execution_count": 159,
   "metadata": {},
   "outputs": [
    {
     "data": {
      "text/plain": [
       "9"
      ]
     },
     "execution_count": 159,
     "metadata": {},
     "output_type": "execute_result"
    }
   ],
   "source": [
    "int(9.9)"
   ]
  },
  {
   "cell_type": "code",
   "execution_count": 153,
   "metadata": {},
   "outputs": [
    {
     "data": {
      "text/plain": [
       "29.153673611111113"
      ]
     },
     "execution_count": 153,
     "metadata": {},
     "output_type": "execute_result"
    }
   ],
   "source": [
    "80733.25 * 1.3 / 3600"
   ]
  },
  {
   "cell_type": "code",
   "execution_count": 144,
   "metadata": {},
   "outputs": [],
   "source": [
    "obj = nlp(dataset_wikipedia['train'][1]['text'])"
   ]
  },
  {
   "cell_type": "code",
   "execution_count": 130,
   "metadata": {},
   "outputs": [],
   "source": [
    "def checknewline(in_str):\n",
    "    tmp_str = in_str[::-1]\n",
    "    def check_nl(string, acc):\n",
    "\n",
    "        if len(string) == 0:\n",
    "            return acc\n",
    "        if string[0] =='\\n':\n",
    "            acc += 1 \n",
    "            return check_nl(string[1::], acc)\n",
    "        else:\n",
    "            if '\\n' in string[1::]:\n",
    "                return -1\n",
    "            else:\n",
    "                return acc\n",
    "    return check_nl(tmp_str, 0)"
   ]
  },
  {
   "cell_type": "code",
   "execution_count": 140,
   "metadata": {},
   "outputs": [
    {
     "data": {
      "text/plain": [
       "('asd\\n', 'asd')"
      ]
     },
     "execution_count": 140,
     "metadata": {},
     "output_type": "execute_result"
    }
   ],
   "source": [
    "\"asd\\n\", \"asd\\n\".replace('\\n', '')"
   ]
  },
  {
   "cell_type": "code",
   "execution_count": 132,
   "metadata": {},
   "outputs": [
    {
     "data": {
      "text/plain": [
       "(0, 2, 3, -1)"
      ]
     },
     "execution_count": 132,
     "metadata": {},
     "output_type": "execute_result"
    }
   ],
   "source": [
    "checknewline(\"Hello World!\"), checknewline(\"Hello World!\\n\\n\"), checknewline(\"\\n\\n\\n\"), checknewline(\"Hello \\nWorld!\")"
   ]
  },
  {
   "cell_type": "code",
   "execution_count": 189,
   "metadata": {},
   "outputs": [],
   "source": [
    "import pandas as pd"
   ]
  },
  {
   "cell_type": "code",
   "execution_count": 195,
   "metadata": {},
   "outputs": [
    {
     "name": "stdout",
     "output_type": "stream",
     "text": [
      "0\n",
      "1\n",
      "2\n",
      "3\n",
      "4\n",
      "5\n",
      "6\n",
      "7\n",
      "8\n",
      "9\n"
     ]
    }
   ],
   "source": [
    "f = open(\"test.txt\", \"w\")\n",
    "counter = 0\n",
    "sents = []\n",
    "neg = []\n",
    "for i in range(10):\n",
    "    print(i)\n",
    "    obj = nlp(dataset_wikipedia['train'][i + 20]['text'])\n",
    "    for sent in obj.sents:\n",
    "        check = False\n",
    "        for token in sent:\n",
    "            if token.dep_ == \"neg\":\n",
    "                neg.append(counter + 1)\n",
    "        sents.append(str(sent.text).replace('\\n', ' ') + '\\n')\n",
    "        counter += 1\n",
    "    # if i % 30 == 0 and i != 0:\n",
    "    #     print(f\"Write to file: {i} - {i - 30}\")\n",
    "    #     f.write(''.join(sents))  \n",
    "f.write(''.join(sents))    \n",
    "f.close()\n",
    "counter_dict = {'neg': neg}\n",
    "pd.DataFrame(counter_dict).to_csv(\"test.csv\")"
   ]
  },
  {
   "cell_type": "code",
   "execution_count": 145,
   "metadata": {},
   "outputs": [
    {
     "data": {
      "text/plain": [
       "309"
      ]
     },
     "execution_count": 145,
     "metadata": {},
     "output_type": "execute_result"
    }
   ],
   "source": [
    "f = open(\"test.txt\", \"w\")\n",
    "counter = 0\n",
    "for sent in obj.sents:\n",
    "    check = False\n",
    "    for token in sent:\n",
    "        if token.dep_ == \"neg\":\n",
    "            check = True\n",
    "    f.write(str(sent.text).replace('\\n', '') + '\\n')\n",
    "    counter += 1\n",
    "    \n",
    "f.close()\n",
    "counter"
   ]
  },
  {
   "cell_type": "code",
   "execution_count": 30,
   "metadata": {},
   "outputs": [
    {
     "data": {
      "text/plain": [
       "'Afterward, until her death in 1982, she turned to non-fiction to promote her philosophy, publishing her own periodicals and releasing several collections of essays.\\n\\n'"
      ]
     },
     "execution_count": 30,
     "metadata": {},
     "output_type": "execute_result"
    }
   ],
   "source": [
    "str(list(obj.sents)[6])"
   ]
  },
  {
   "attachments": {},
   "cell_type": "markdown",
   "metadata": {},
   "source": [
    "# Cont\n"
   ]
  },
  {
   "cell_type": "code",
   "execution_count": 6,
   "metadata": {},
   "outputs": [
    {
     "data": {
      "text/plain": [
       "6458670"
      ]
     },
     "execution_count": 6,
     "metadata": {},
     "output_type": "execute_result"
    }
   ],
   "source": [
    "len(dataset_wikipedia['train'])"
   ]
  },
  {
   "cell_type": "code",
   "execution_count": null,
   "metadata": {},
   "outputs": [],
   "source": [
    "dataset_wikipedia['train'][15]['text']"
   ]
  },
  {
   "cell_type": "code",
   "execution_count": 8,
   "metadata": {},
   "outputs": [
    {
     "name": "stderr",
     "output_type": "stream",
     "text": [
      "Found cached dataset cc_news (/home/philko/.cache/huggingface/datasets/cc_news/plain_text/1.0.0/ae469e556251e6e7e20a789f93803c7de19d0c4311b6854ab072fecb4e401bd6)\n"
     ]
    },
    {
     "data": {
      "application/vnd.jupyter.widget-view+json": {
       "model_id": "82044fb19fa3467484c98672b011c6bf",
       "version_major": 2,
       "version_minor": 0
      },
      "text/plain": [
       "  0%|          | 0/1 [00:00<?, ?it/s]"
      ]
     },
     "metadata": {},
     "output_type": "display_data"
    }
   ],
   "source": [
    "dataset_cc_news = load_dataset(\"cc_news\")"
   ]
  },
  {
   "cell_type": "code",
   "execution_count": 10,
   "metadata": {},
   "outputs": [
    {
     "data": {
      "text/plain": [
       "708241"
      ]
     },
     "execution_count": 10,
     "metadata": {},
     "output_type": "execute_result"
    }
   ],
   "source": [
    "len(dataset_cc_news['train'])"
   ]
  },
  {
   "cell_type": "code",
   "execution_count": 12,
   "metadata": {},
   "outputs": [
    {
     "data": {
      "text/plain": [
       "'There\\'s a surprising twist to Regina Willoughby\\'s last season with Columbia City Ballet: It\\'s also her 18-year-old daughter Melina\\'s first season with the company. Regina, 40, will retire from the stage in March, just as her daughter starts her own career as a trainee. But for this one season, they\\'re sharing the stage together.\\nPerforming Side-By-Side In The Nutcracker\\nRegina and Melina are not only dancing in the same Nutcracker this month, they\\'re onstage at the same time: Regina is doing Snow Queen, while Melina is in the snow corps, and they\\'re both in the Arabian divertissement. \"It\\'s very surreal to be dancing it together,\" says Regina. \"I don\\'t know that I ever thought Melina would take ballet this far.\"\\nLeft: Regina and Melina with another company member post-snow scene in 2003. Right: The pair post-snow scene in 2017 (in the same theater)\\nKeep reading at dancemagazine.com.'"
      ]
     },
     "execution_count": 12,
     "metadata": {},
     "output_type": "execute_result"
    }
   ],
   "source": [
    "dataset_cc_news['train'][0]['text']"
   ]
  },
  {
   "cell_type": "code",
   "execution_count": 4,
   "metadata": {},
   "outputs": [
    {
     "name": "stderr",
     "output_type": "stream",
     "text": [
      "Found cached dataset openwebtext (/home/philko/.cache/huggingface/datasets/openwebtext/plain_text/1.0.0/85b3ae7051d2d72e7c5fdf6dfb462603aaa26e9ed506202bf3a24d261c6c40a1)\n"
     ]
    },
    {
     "data": {
      "application/vnd.jupyter.widget-view+json": {
       "model_id": "276a547678f34783b78f9d1093528417",
       "version_major": 2,
       "version_minor": 0
      },
      "text/plain": [
       "  0%|          | 0/1 [00:00<?, ?it/s]"
      ]
     },
     "metadata": {},
     "output_type": "display_data"
    }
   ],
   "source": [
    "dataset_openwebtext = load_dataset(\"openwebtext\")"
   ]
  },
  {
   "cell_type": "code",
   "execution_count": 5,
   "metadata": {},
   "outputs": [
    {
     "data": {
      "text/plain": [
       "8013769"
      ]
     },
     "execution_count": 5,
     "metadata": {},
     "output_type": "execute_result"
    }
   ],
   "source": [
    "len(dataset_openwebtext['train'])"
   ]
  },
  {
   "cell_type": "code",
   "execution_count": 10,
   "metadata": {},
   "outputs": [
    {
     "data": {
      "text/plain": [
       "'Protesters take to the street in Chicago after recent grand jury decisions in police-involved deaths in New York, Cleveland and Ferguson, Mo. (Photo by Tasos Katopodis/Getty Images)\\n\\nCongress reauthorized legislation this week that will require states to report the number of people killed during an arrest or while in police custody.\\n\\n\"You can\\'t begin to improve the situation unless you know what the situation is,\" Rep. Bobby Scott (D-Va.), one of the bill\\'s sponsors, said in an interview with the Washington Post. \"We will now have the data.\"\\n\\nThe Death in Custody Reporting Act was originally passed in 2000, but expired in 2006. Scott has attempted to reauthorize the bill unsuccessfully four times since then.\\n\\nThe first time the bill was passed, it took years for data to start coming in, and it expired shortly thereafter, Scott said.\\n\\n\"It\\'s the way government works,\" he said. \"You\\'re trying to get local governments to make periodic reports. It just takes some time for this to become routine.\"\\n\\nThe lack of reliable information about how many people are killed by police annually has come into focus following the deaths of Michael Brown and Eric Garner. In place of government-provided data, crowd-sourced efforts like Fatal Encounters and one by the Gawker Media-owned sports Web site Deadspin have been created that rely on local media reports and volunteers who input information.\\n\\nFatal Encounters, founded in 2012 by Reno News & Review editor and publisher Brian Burghart, has recorded 3,010 deaths, with another 9,000 in its \"development queue\" where various leads from places like Wikipedia and FBI data are available for users to research. The site sees an increase in traffic whenever a death captures the public attention, and since Sunday, Burghart said, there\\'s been about 600 new records submitted.\\n\\nBut despite the reauthorization of the Death in Custody Reporting Act, Burghart said he\\'ll continue collecting data and keep the site up.\\n\\n\"I don\\'t know that anything changed,\" he said of the first time the law was passed. But if its second iteration produces meaningful data this time around, he said, then he might consider shuttering the project. \"I hope [the law] really means something,\" he said.\\n\\nLawmakers are confident it does. Sen. Richard Blumenthal (D-Conn.), a sponsor, said the law \"will give the information needed to strengthen trust at every level.\"\\n\\n\"Alarmingly, on an issue this profoundly important and potentially explosive, there is no reliable data on the overall scope of the problem,\" he said in a statement. \"The stark, staggering fact is that the nation has no reliable idea how many Americans die during arrests or police custody each year. This legislation will fix that unacceptable factual gap.\"\\n\\nThe law requires the head of every federal law enforcement agency to report to the attorney general certain information about individuals who die while detained, under arrest or incarcerated. Among the information that must be reported are the deceased individual\\'s name, age, gender, race, and ethnicity, the date, time, and location of their death, and a brief description of the circumstances involving their death.\\n\\nUnder the bill, the Justice Department has the authority to withhold federal funds from states that don’t comply in sending the information to federal agencies. The funds total $500 million a year and are divvied up among states based on a formula that includes factors such as population and violent crime.\\n\\nThe attorney general would then have two years to determine if the data could be used to reduce deaths and submit a report to Congress.\\n\\nScott \"wasn\\'t satisfied\" with how the information was used when the law was first passed, but is hopeful things will be different now. \"I think providing the data should not be a hardship,\" he said.\\n\\n\"You really can\\'t have an intelligent discussion without good information.\"'"
      ]
     },
     "execution_count": 10,
     "metadata": {},
     "output_type": "execute_result"
    }
   ],
   "source": [
    "dataset_openwebtext['train'][1]['text']"
   ]
  },
  {
   "cell_type": "code",
   "execution_count": 7,
   "metadata": {},
   "outputs": [
    {
     "data": {
      "application/vnd.jupyter.widget-view+json": {
       "model_id": "a0dee2d89de54e86bb48f8081ee54160",
       "version_major": 2,
       "version_minor": 0
      },
      "text/plain": [
       "Downloading builder script:   0%|          | 0.00/3.25k [00:00<?, ?B/s]"
      ]
     },
     "metadata": {},
     "output_type": "display_data"
    },
    {
     "data": {
      "application/vnd.jupyter.widget-view+json": {
       "model_id": "2fcf606413b44f8fb5f7e9ac61439f4f",
       "version_major": 2,
       "version_minor": 0
      },
      "text/plain": [
       "Downloading metadata:   0%|          | 0.00/1.67k [00:00<?, ?B/s]"
      ]
     },
     "metadata": {},
     "output_type": "display_data"
    },
    {
     "data": {
      "application/vnd.jupyter.widget-view+json": {
       "model_id": "1739a812752c428eb1735103789ea40e",
       "version_major": 2,
       "version_minor": 0
      },
      "text/plain": [
       "Downloading readme:   0%|          | 0.00/6.50k [00:00<?, ?B/s]"
      ]
     },
     "metadata": {},
     "output_type": "display_data"
    },
    {
     "name": "stdout",
     "output_type": "stream",
     "text": [
      "Downloading and preparing dataset bookcorpus/plain_text to /home/philko/.cache/huggingface/datasets/bookcorpus/plain_text/1.0.0/eddee3cae1cc263a431aa98207d4d27fd8a73b0a9742f692af0e6c65afa4d75f...\n"
     ]
    },
    {
     "data": {
      "application/vnd.jupyter.widget-view+json": {
       "model_id": "4461addfc1364092b6c4a53989c4088a",
       "version_major": 2,
       "version_minor": 0
      },
      "text/plain": [
       "Downloading data:   0%|          | 0.00/1.18G [00:00<?, ?B/s]"
      ]
     },
     "metadata": {},
     "output_type": "display_data"
    },
    {
     "data": {
      "application/vnd.jupyter.widget-view+json": {
       "model_id": "2812ff5cd16947029bdb877b776ae752",
       "version_major": 2,
       "version_minor": 0
      },
      "text/plain": [
       "Generating train split:   0%|          | 0/74004228 [00:00<?, ? examples/s]"
      ]
     },
     "metadata": {},
     "output_type": "display_data"
    },
    {
     "name": "stdout",
     "output_type": "stream",
     "text": [
      "Dataset bookcorpus downloaded and prepared to /home/philko/.cache/huggingface/datasets/bookcorpus/plain_text/1.0.0/eddee3cae1cc263a431aa98207d4d27fd8a73b0a9742f692af0e6c65afa4d75f. Subsequent calls will reuse this data.\n"
     ]
    },
    {
     "data": {
      "application/vnd.jupyter.widget-view+json": {
       "model_id": "eddf2fd5b24641c9b5038b0941c0232a",
       "version_major": 2,
       "version_minor": 0
      },
      "text/plain": [
       "  0%|          | 0/1 [00:00<?, ?it/s]"
      ]
     },
     "metadata": {},
     "output_type": "display_data"
    }
   ],
   "source": [
    "dataset_bookcorpus = load_dataset(\"bookcorpus\")"
   ]
  },
  {
   "cell_type": "code",
   "execution_count": 9,
   "metadata": {},
   "outputs": [],
   "source": [
    "dataset_bookcorpus['train']['text'][0]"
   ]
  },
  {
   "cell_type": "code",
   "execution_count": null,
   "metadata": {},
   "outputs": [],
   "source": []
  }
 ],
 "metadata": {
  "kernelspec": {
   "display_name": ".venv",
   "language": "python",
   "name": "python3"
  },
  "language_info": {
   "codemirror_mode": {
    "name": "ipython",
    "version": 3
   },
   "file_extension": ".py",
   "mimetype": "text/x-python",
   "name": "python",
   "nbconvert_exporter": "python",
   "pygments_lexer": "ipython3",
   "version": "3.10.9"
  },
  "orig_nbformat": 4,
  "vscode": {
   "interpreter": {
    "hash": "cae083144e8323647f3e253ca1c0b4e95cd1943d61bc1ab847828a5cd2dee0e3"
   }
  }
 },
 "nbformat": 4,
 "nbformat_minor": 2
}
