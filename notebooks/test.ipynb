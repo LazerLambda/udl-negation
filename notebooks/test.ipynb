{
 "cells": [
  {
   "cell_type": "code",
   "execution_count": 1,
   "metadata": {},
   "outputs": [],
   "source": [
    "import pandas as pd\n",
    "import numpy as np"
   ]
  },
  {
   "cell_type": "code",
   "execution_count": 16,
   "metadata": {},
   "outputs": [
    {
     "name": "stdout",
     "output_type": "stream",
     "text": [
      "322253 322253\n"
     ]
    }
   ],
   "source": [
    "df = pd.read_csv(\"/home/philko/Documents/udl-negation/data/interim/bc/bc-4.csv\", dtype={\"neg\": str})\n",
    "indices: list = list(np.unique(df['neg'].values[:-1].astype(int)))\n",
    "print(len(indices), len(df['neg'].values[:-1].astype(int)))"
   ]
  },
  {
   "cell_type": "code",
   "execution_count": null,
   "metadata": {},
   "outputs": [],
   "source": [
    "newfile = open(\"newfile.txt\", \"w\")\n",
    "for f in ['test', 'test2']:\n",
    "    newfile.write(open(f, 'r').read())"
   ]
  }
 ],
 "metadata": {
  "kernelspec": {
   "display_name": ".venv",
   "language": "python",
   "name": "python3"
  },
  "language_info": {
   "codemirror_mode": {
    "name": "ipython",
    "version": 3
   },
   "file_extension": ".py",
   "mimetype": "text/x-python",
   "name": "python",
   "nbconvert_exporter": "python",
   "pygments_lexer": "ipython3",
   "version": "3.10.9"
  },
  "orig_nbformat": 4,
  "vscode": {
   "interpreter": {
    "hash": "cae083144e8323647f3e253ca1c0b4e95cd1943d61bc1ab847828a5cd2dee0e3"
   }
  }
 },
 "nbformat": 4,
 "nbformat_minor": 2
}
